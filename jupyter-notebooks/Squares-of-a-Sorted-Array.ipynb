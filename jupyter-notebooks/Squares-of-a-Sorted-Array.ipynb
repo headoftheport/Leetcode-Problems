{
 "cells": [
  {
   "cell_type": "markdown",
   "metadata": {},
   "source": [
    "Given an integer array nums sorted in non-decreasing order, return an array of the squares of each number sorted in non-decreasing order."
   ]
  },
  {
   "cell_type": "code",
   "execution_count": null,
   "metadata": {},
   "outputs": [],
   "source": [
    "class Solution:\n",
    "    def sortedSquares(self, nums: List[int]) -> List[int]:\n",
    "        \n",
    "        sortedArray = [i for i in range(len(nums))]\n",
    "        left = 0\n",
    "        right = len(nums) - 1\n",
    "        for i in range(len(nums)-1, -1 ,-1):\n",
    "            print(i)\n",
    "            if abs(nums[left]) > abs(nums[right]):\n",
    "                sortedArray[i]  = (nums[left] * nums[left])\n",
    "                left = left + 1\n",
    "            else:\n",
    "                sortedArray[i] = (nums[right] * nums[right])\n",
    "                right = right - 1\n",
    "                \n",
    "        return sortedArray"
   ]
  }
 ],
 "metadata": {
  "language_info": {
   "name": "python"
  },
  "orig_nbformat": 4
 },
 "nbformat": 4,
 "nbformat_minor": 2
}
