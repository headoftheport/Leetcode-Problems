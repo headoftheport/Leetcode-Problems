{
 "cells": [
  {
   "cell_type": "markdown",
   "metadata": {},
   "source": [
    "Given an integer array nums and an integer val, remove all occurrences of val in nums in-place. The relative order of the elements may be changed."
   ]
  },
  {
   "cell_type": "markdown",
   "metadata": {},
   "source": [
    "[3,2,2,3]\n",
    "3"
   ]
  },
  {
   "cell_type": "code",
   "execution_count": null,
   "metadata": {},
   "outputs": [],
   "source": [
    "class Solution:\n",
    "    def removeElement(self, nums: List[int], val: int) -> int:\n",
    "        \n",
    "        \n",
    "        start = 0\n",
    "        end = len(nums)-1\n",
    "        swap = 0\n",
    "        while start <= end:\n",
    "            \n",
    "            if nums[start] == val:\n",
    "                nums[start] , nums[end] = nums[end],nums[start]\n",
    "                end = end-1\n",
    "                swap = swap + 1\n",
    "            else:\n",
    "                start = start + 1\n",
    "                \n",
    "        return len(nums) - swap"
   ]
  },
  {
   "cell_type": "code",
   "execution_count": null,
   "metadata": {},
   "outputs": [],
   "source": [
    "class Solution:\n",
    "    def removeElement(self, nums: List[int], val: int) -> int:\n",
    "        \n",
    "        \n",
    "        start = 0\n",
    "        end = len(nums)-1\n",
    "        \n",
    "        while start <= end:\n",
    "            \n",
    "            if nums[start] == val:\n",
    "                nums[start] , nums[end] = nums[end],nums[start]\n",
    "                end = end-1\n",
    "            else:\n",
    "                start = start + 1\n",
    "                \n",
    "        return end+1\n",
    "        "
   ]
  },
  {
   "cell_type": "code",
   "execution_count": null,
   "metadata": {},
   "outputs": [],
   "source": [
    "class Solution:\n",
    "    def removeElement(self, nums: List[int], val: int) -> int:\n",
    "        \n",
    "        \n",
    "        start = 0\n",
    "        \n",
    "        for i in range(len(nums)):\n",
    "            if nums[i] != val:\n",
    "                       nums[start] = nums[i]\n",
    "                       start = start+1\n",
    "                       \n",
    "        return start"
   ]
  }
 ],
 "metadata": {
  "language_info": {
   "name": "python"
  },
  "orig_nbformat": 4
 },
 "nbformat": 4,
 "nbformat_minor": 2
}
