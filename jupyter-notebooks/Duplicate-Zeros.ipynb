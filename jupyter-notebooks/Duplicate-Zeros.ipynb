{
 "cells": [
  {
   "cell_type": "markdown",
   "metadata": {},
   "source": [
    "Given a fixed-length integer array arr, duplicate each occurrence of zero, shifting the remaining elements to the right.\n",
    "\n",
    "Note that elements beyond the length of the original array are not written. Do the above modifications to the input array in place and do not return anything."
   ]
  },
  {
   "cell_type": "code",
   "execution_count": 20,
   "metadata": {},
   "outputs": [],
   "source": [
    "class Solution:\n",
    "    def duplicateZeros(self, arr) -> None:\n",
    "        \"\"\"\n",
    "        Do not return anything, modify arr in-place instead.\n",
    "        \"\"\"\n",
    "        if len(arr) == 1:\n",
    "            return \n",
    "        zeroCount = 0\n",
    "        for i in arr :\n",
    "            if i == 0:\n",
    "                zeroCount += 1\n",
    "                \n",
    "        if (zeroCount == 0):\n",
    "            return\n",
    "        \n",
    "        copyFrom = len(arr)-1\n",
    "        copyTo = len(arr) + zeroCount - 1\n",
    "       \n",
    "        while copyFrom >= 0:\n",
    "            \n",
    "            if copyTo < len(arr): arr[copyTo] = arr[copyFrom]\n",
    "            copyTo -=1\n",
    "\n",
    "            if arr[copyFrom] == 0:\n",
    "                if copyTo < len(arr): arr[copyTo] = arr[copyFrom]\n",
    "                copyTo -= 1\n",
    "\n",
    "            copyFrom -= 1\n",
    "\n",
    "        print(arr)      "
   ]
  },
  {
   "cell_type": "code",
   "execution_count": 22,
   "metadata": {},
   "outputs": [
    {
     "name": "stdout",
     "output_type": "stream",
     "text": [
      "[8, 5, 0, 0, 9, 0, 0, 3]\n"
     ]
    }
   ],
   "source": [
    "#Solution().duplicateZeros([1,0,2,3,0,4,5,0])\n",
    "#Solution().duplicateZeros([1,2,3])\n",
    "Solution().duplicateZeros([8,5,0,9,0,3,4,7])"
   ]
  }
 ],
 "metadata": {
  "interpreter": {
   "hash": "31f2aee4e71d21fbe5cf8b01ff0e069b9275f58929596ceb00d14d90e3e16cd6"
  },
  "kernelspec": {
   "display_name": "Python 3.8.9 64-bit",
   "language": "python",
   "name": "python3"
  },
  "language_info": {
   "codemirror_mode": {
    "name": "ipython",
    "version": 3
   },
   "file_extension": ".py",
   "mimetype": "text/x-python",
   "name": "python",
   "nbconvert_exporter": "python",
   "pygments_lexer": "ipython3",
   "version": "3.8.9"
  },
  "orig_nbformat": 4
 },
 "nbformat": 4,
 "nbformat_minor": 2
}
