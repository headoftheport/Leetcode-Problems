{
 "cells": [
  {
   "cell_type": "markdown",
   "metadata": {},
   "source": [
    "Given an integer array nums sorted in non-decreasing order, remove the duplicates in-place such that each unique element appears only once. The relative order of the elements should be kept the same."
   ]
  },
  {
   "cell_type": "code",
   "execution_count": null,
   "metadata": {},
   "outputs": [],
   "source": [
    "class Solution:\n",
    "    def removeDuplicates(self, nums: List[int]) -> int:\n",
    "        \n",
    "        #points to the index of latest unique element in the array\n",
    "        lastPointer = 0\n",
    "        \n",
    "        for i in range(1,len(nums)):\n",
    "            #if the current number is different than the latest unique number then update the pointer and assign the value\n",
    "            if nums[lastPointer] != nums[i]:\n",
    "                lastPointer += 1\n",
    "                nums[lastPointer] = nums[i]\n",
    "                \n",
    "        return lastPointer + 1"
   ]
  }
 ],
 "metadata": {
  "language_info": {
   "name": "python"
  },
  "orig_nbformat": 4
 },
 "nbformat": 4,
 "nbformat_minor": 2
}
