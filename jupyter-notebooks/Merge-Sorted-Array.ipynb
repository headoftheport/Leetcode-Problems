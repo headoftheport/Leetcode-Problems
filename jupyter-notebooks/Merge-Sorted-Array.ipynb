{
 "cells": [
  {
   "cell_type": "markdown",
   "metadata": {},
   "source": [
    "You are given two integer arrays nums1 and nums2, sorted in non-decreasing order, and two integers m and n, representing the number of elements in nums1 and nums2 respectively."
   ]
  },
  {
   "cell_type": "code",
   "execution_count": 17,
   "metadata": {},
   "outputs": [
    {
     "name": "stdout",
     "output_type": "stream",
     "text": [
      "[1, 2, 2, 3, 5, 6]\n",
      "[1]\n",
      "[1]\n",
      "[1, 2]\n"
     ]
    }
   ],
   "source": [
    "class Solution:\n",
    "    def merge(self, nums1, m, nums2, n):\n",
    "        \"\"\"\n",
    "        Do not return anything, modify nums1 in-place instead.\n",
    "        \"\"\"\n",
    "        it1 = m-1\n",
    "        it2 = n-1\n",
    "        it3 = m+n-1\n",
    "        \n",
    "        while it2 >= 0:\n",
    "\n",
    "            if it1 >= 0 and nums1[it1] > nums2[it2]:\n",
    "                nums1[it3] = nums1[it1]\n",
    "                it1 -= 1\n",
    "            else:\n",
    "                nums1[it3] = nums2[it2]\n",
    "                it2 -= 1\n",
    "            it3 -= 1\n",
    "            \n",
    "        print(nums1)\n",
    "\n",
    "\n",
    "Solution().merge([1,2,3,0,0,0],3,[2,5,6],3)\n",
    "Solution().merge([1],1,[],0)\n",
    "Solution().merge([0],0,[1],1)\n",
    "Solution().merge([2,0], 1, [1],1)\n",
    "        \n",
    "        "
   ]
  },
  {
   "cell_type": "code",
   "execution_count": null,
   "metadata": {},
   "outputs": [],
   "source": []
  }
 ],
 "metadata": {
  "interpreter": {
   "hash": "31f2aee4e71d21fbe5cf8b01ff0e069b9275f58929596ceb00d14d90e3e16cd6"
  },
  "kernelspec": {
   "display_name": "Python 3.8.9 64-bit",
   "language": "python",
   "name": "python3"
  },
  "language_info": {
   "codemirror_mode": {
    "name": "ipython",
    "version": 3
   },
   "file_extension": ".py",
   "mimetype": "text/x-python",
   "name": "python",
   "nbconvert_exporter": "python",
   "pygments_lexer": "ipython3",
   "version": "3.8.9"
  },
  "orig_nbformat": 4
 },
 "nbformat": 4,
 "nbformat_minor": 2
}
