{
 "cells": [
  {
   "cell_type": "code",
   "execution_count": 17,
   "metadata": {},
   "outputs": [
    {
     "name": "stdout",
     "output_type": "stream",
     "text": [
      "2\n"
     ]
    }
   ],
   "source": [
    "class Solution:\n",
    "    def thirdMax(self, nums) -> int:\n",
    "        \n",
    "        array = [float(\"-inf\"),float(\"-inf\"),float(\"-inf\")]\n",
    "        \n",
    "        \n",
    "        for i in nums:\n",
    "            if i == array[0] or i == array[1] or i == array[2]:\n",
    "                continue\n",
    "                \n",
    "            if i > array[0]:\n",
    "                array[2] = array[1]\n",
    "                array[1] = array[0]\n",
    "                array[0] = i\n",
    "            \n",
    "            elif i > array[1]:\n",
    "                array[2] = array[1]\n",
    "                array[1] = i\n",
    "            \n",
    "            elif i > array[2]:\n",
    "                array[2] = i\n",
    "            \n",
    "        \n",
    "        return array[2] if array[2] != float(\"-inf\") else array[0]"
   ]
  }
 ],
 "metadata": {
  "interpreter": {
   "hash": "31f2aee4e71d21fbe5cf8b01ff0e069b9275f58929596ceb00d14d90e3e16cd6"
  },
  "kernelspec": {
   "display_name": "Python 3.8.9 64-bit",
   "language": "python",
   "name": "python3"
  },
  "language_info": {
   "codemirror_mode": {
    "name": "ipython",
    "version": 3
   },
   "file_extension": ".py",
   "mimetype": "text/x-python",
   "name": "python",
   "nbconvert_exporter": "python",
   "pygments_lexer": "ipython3",
   "version": "3.8.9"
  },
  "orig_nbformat": 4
 },
 "nbformat": 4,
 "nbformat_minor": 2
}
