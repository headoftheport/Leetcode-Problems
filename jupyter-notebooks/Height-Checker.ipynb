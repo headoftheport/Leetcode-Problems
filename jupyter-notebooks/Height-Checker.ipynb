{
 "cells": [
  {
   "cell_type": "markdown",
   "metadata": {},
   "source": [
    "A school is trying to take an annual photo of all the students. The students are asked to stand in a single file line in non-decreasing order by height. Let this ordering be represented by the integer array expected where expected[i] is the expected height of the ith student in line."
   ]
  },
  {
   "cell_type": "code",
   "execution_count": null,
   "metadata": {},
   "outputs": [],
   "source": [
    "class Solution:\n",
    "    def heightChecker(self, heights: List[int]) -> int:\n",
    "        \n",
    "        newArray = sorted(heights)\n",
    "        count = 0\n",
    "        \n",
    "        for i in range(len(heights)):\n",
    "            if  newArray[i] != heights[i]:\n",
    "                count += 1\n",
    "                \n",
    "        return count"
   ]
  },
  {
   "cell_type": "code",
   "execution_count": null,
   "metadata": {},
   "outputs": [],
   "source": [
    "class Solution:\n",
    "    def heightChecker(self, heights: List[int]) -> int:\n",
    "        \n",
    "        \"\"\"\n",
    "        initialize a counter array to count number of stundents for every possible height\n",
    "\t\ti.e 1 to 100 for the constraint given in the problem\n",
    "        \"\"\"\n",
    "\n",
    "        heightsCounter = [0 for i in range(101)]\n",
    "        \n",
    "        # when an entire for a perticular height found. increase the counter at that index\n",
    "        for height in heights:\n",
    "            heightsCounter[height] += 1\n",
    "            \n",
    "        \n",
    "        misplaceCount = 0\n",
    "        #initialize to least possible height\n",
    "        currentNonZeroHeight = 1\n",
    "        \n",
    "        for height in heights:\n",
    "            #iterate the counter till first an height has non-zero count.\n",
    "            while heightsCounter[currentNonZeroHeight] == 0:\n",
    "                currentNonZeroHeight += 1\n",
    "                \n",
    "            \n",
    "            \"\"\"\n",
    "\t\t\tif the height is not equal to the currentHeight index means height is in wrong place \n",
    "\t\t\tin the sorted array\n",
    "\t\t\t\"\"\"\n",
    "            if height != currentNonZeroHeight:\n",
    "                misplaceCount += 1\n",
    "            \n",
    "            \"\"\"\n",
    "\t\t\treduce the counter at currentNonZeroHeight as it passes it's possition. \n",
    "\t\t\tif this reaches to zero the pointer will be moved to next non-zero counter index \n",
    "\t\t\tin upcoming interation\n",
    "\t\t\t\"\"\"\n",
    "            heightsCounter[currentNonZeroHeight] -= 1\n",
    "            \n",
    "        return misplaceCount\n"
   ]
  }
 ],
 "metadata": {
  "language_info": {
   "name": "python"
  },
  "orig_nbformat": 4
 },
 "nbformat": 4,
 "nbformat_minor": 2
}
