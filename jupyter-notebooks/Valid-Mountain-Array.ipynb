{
 "cells": [
  {
   "cell_type": "markdown",
   "metadata": {},
   "source": [
    "Given an array of integers arr, return true if and only if it is a valid mountain array."
   ]
  },
  {
   "cell_type": "code",
   "execution_count": null,
   "metadata": {},
   "outputs": [],
   "source": [
    "class Solution:\n",
    "    def validMountainArray(self, arr: List[int]) -> bool:\n",
    "        #initially peak is set to false\n",
    "        peak = False\n",
    "        \n",
    "        #interation range is from the 2nd element to 2nd last element , if there is only 2 or less elements in the array then there can not be a mountain\n",
    "        for index in range(1, len(arr)-1):\n",
    "            \n",
    "            #if not peaked check the value is greater than the previous \n",
    "            if not peak and arr[index] <= arr[index-1]:\n",
    "                return False\n",
    "            \n",
    "            #if peaked then check the value is greater than the next\n",
    "            if peak and arr[index] <= arr[index+1]:\n",
    "                return False\n",
    "            \n",
    "            #check if the current element is the peak, by comparing previous and next elements \n",
    "            if arr[index-1] < arr[index] and arr[index+1] < arr[index]:\n",
    "                peak = True\n",
    "                \n",
    "        return peak"
   ]
  },
  {
   "cell_type": "code",
   "execution_count": null,
   "metadata": {},
   "outputs": [],
   "source": [
    "class Solution:\n",
    "    def validMountainArray(self, arr: List[int]) -> bool:\n",
    "\n",
    "        \n",
    "        first = 0\n",
    "        last = len(arr)-1\n",
    "        \n",
    "        while first < last and arr[first] < arr[first+1]:\n",
    "            first += 1\n",
    "            \n",
    "        if first == 0 or first == last:\n",
    "            return False\n",
    "            \n",
    "        while first < last and arr[first] > arr[first+1]:\n",
    "            first += 1\n",
    "            \n",
    "            \n",
    "        return first == last"
   ]
  }
 ],
 "metadata": {
  "language_info": {
   "name": "python"
  },
  "orig_nbformat": 4
 },
 "nbformat": 4,
 "nbformat_minor": 2
}
