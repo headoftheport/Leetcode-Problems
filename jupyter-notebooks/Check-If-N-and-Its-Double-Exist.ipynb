{
 "cells": [
  {
   "cell_type": "markdown",
   "metadata": {},
   "source": [
    "Given an array arr of integers, check if there exists two integers N and M such that N is the double of M ( i.e. N = 2 * M)."
   ]
  },
  {
   "cell_type": "code",
   "execution_count": null,
   "metadata": {},
   "outputs": [],
   "source": [
    "class Solution:\n",
    "    def checkIfExist(self, arr: List[int]) -> bool:\n",
    "        \n",
    "        \n",
    "        doubleMap = dict()\n",
    "        \n",
    "        for i in range(len(arr)):\n",
    "            if arr[i] in doubleMap.keys():\n",
    "                return True \n",
    "            else:\n",
    "                doubleMap[arr[i]*2] = i\n",
    "                doubleMap[arr[i]/2] = i\n",
    "                \n",
    "            \n",
    "        return False\n",
    "            "
   ]
  },
  {
   "cell_type": "code",
   "execution_count": null,
   "metadata": {},
   "outputs": [],
   "source": [
    "class Solution:\n",
    "    def checkIfExist(self, arr: List[int]) -> bool:\n",
    "        \n",
    "        \n",
    "        doubleMap = dict()\n",
    "        \n",
    "        for i in range(len(arr)):\n",
    "            if arr[i]*2 in doubleMap.keys():\n",
    "                return True \n",
    "            elif arr[i] / 2 in doubleMap.keys():\n",
    "                return True\n",
    "            else:\n",
    "                doubleMap[arr[i]] = i \n",
    "                \n",
    "            \n",
    "        return False\n",
    "            "
   ]
  },
  {
   "cell_type": "code",
   "execution_count": null,
   "metadata": {},
   "outputs": [],
   "source": [
    "class Solution:\n",
    "    def checkIfExist(self, arr: List[int]):\n",
    "        \n",
    "        \n",
    "        doubleMap = dict()\n",
    "        \n",
    "        for i in range(len(arr)):\n",
    "            if arr[i]*2 in doubleMap.keys() or arr[i] / 2 in doubleMap.keys():\n",
    "                return True \n",
    "            else:\n",
    "                doubleMap[arr[i]] = i \n",
    "                \n",
    "            \n",
    "        return False\n",
    "            "
   ]
  }
 ],
 "metadata": {
  "language_info": {
   "name": "python"
  },
  "orig_nbformat": 4
 },
 "nbformat": 4,
 "nbformat_minor": 2
}
