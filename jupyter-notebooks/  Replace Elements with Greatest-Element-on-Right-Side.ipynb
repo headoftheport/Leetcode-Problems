{
 "cells": [
  {
   "cell_type": "markdown",
   "metadata": {},
   "source": [
    "Given an array arr, replace every element in that array with the greatest element among the elements to its right, and replace the last element with -1"
   ]
  },
  {
   "cell_type": "code",
   "execution_count": null,
   "metadata": {},
   "outputs": [],
   "source": [
    "class Solution:\n",
    "    def replaceElements(self, arr: List[int]) -> List[int]:\n",
    "        \n",
    "        \n",
    "        replace = arr[-1]\n",
    "        arr[-1] = -1\n",
    "        \n",
    "        for i in range(len(arr)-2,-1,-1):\n",
    "            temp = arr[i]\n",
    "            arr[i] = replace\n",
    "            \n",
    "            replace = temp if temp > replace else replace\n",
    "            \n",
    "        return arr"
   ]
  },
  {
   "cell_type": "code",
   "execution_count": null,
   "metadata": {},
   "outputs": [],
   "source": [
    "class Solution:\n",
    "    def replaceElements(self, arr: List[int]) -> List[int]:\n",
    "        \n",
    "        \n",
    "        maxVal = -1\n",
    "        \n",
    "        for i in range(len(arr)-1,-1,-1):            \n",
    "             arr[i], maxVal = maxVal, max( arr[i], maxVal)\n",
    "            \n",
    "        return arr"
   ]
  }
 ],
 "metadata": {
  "language_info": {
   "name": "python"
  },
  "orig_nbformat": 4
 },
 "nbformat": 4,
 "nbformat_minor": 2
}
